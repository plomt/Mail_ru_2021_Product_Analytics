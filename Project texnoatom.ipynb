{
 "cells": [
  {
   "cell_type": "markdown",
   "metadata": {},
   "source": [
    "# Dataset:USA Housing Listings "
   ]
  },
  {
   "cell_type": "markdown",
   "metadata": {},
   "source": [
    "https://www.kaggle.com/austinreese/usa-housing-listings"
   ]
  },
  {
   "cell_type": "markdown",
   "metadata": {},
   "source": [
    "# Импорт библиотек"
   ]
  },
  {
   "cell_type": "code",
   "execution_count": 1,
   "metadata": {
    "scrolled": true
   },
   "outputs": [],
   "source": [
    "import numpy as np\n",
    "import pandas as pd\n",
    "import matplotlib.pyplot as plt\n",
    "import seaborn as sns\n",
    "from scipy import stats\n",
    "from statsmodels.stats.multicomp import pairwise_tukeyhsd, MultiComparison"
   ]
  },
  {
   "cell_type": "markdown",
   "metadata": {},
   "source": [
    "# Импорт датасета"
   ]
  },
  {
   "cell_type": "code",
   "execution_count": 2,
   "metadata": {},
   "outputs": [],
   "source": [
    "data = pd.read_csv('D:/Datasets/dataset_housing/housing.csv')"
   ]
  },
  {
   "cell_type": "markdown",
   "metadata": {},
   "source": [
    "# Первичная информация о данных"
   ]
  },
  {
   "cell_type": "code",
   "execution_count": 3,
   "metadata": {},
   "outputs": [
    {
     "data": {
      "text/html": [
       "<div>\n",
       "<style scoped>\n",
       "    .dataframe tbody tr th:only-of-type {\n",
       "        vertical-align: middle;\n",
       "    }\n",
       "\n",
       "    .dataframe tbody tr th {\n",
       "        vertical-align: top;\n",
       "    }\n",
       "\n",
       "    .dataframe thead th {\n",
       "        text-align: right;\n",
       "    }\n",
       "</style>\n",
       "<table border=\"1\" class=\"dataframe\">\n",
       "  <thead>\n",
       "    <tr style=\"text-align: right;\">\n",
       "      <th></th>\n",
       "      <th>id</th>\n",
       "      <th>url</th>\n",
       "      <th>region</th>\n",
       "      <th>region_url</th>\n",
       "      <th>price</th>\n",
       "      <th>type</th>\n",
       "      <th>sqfeet</th>\n",
       "      <th>beds</th>\n",
       "      <th>baths</th>\n",
       "      <th>cats_allowed</th>\n",
       "      <th>...</th>\n",
       "      <th>wheelchair_access</th>\n",
       "      <th>electric_vehicle_charge</th>\n",
       "      <th>comes_furnished</th>\n",
       "      <th>laundry_options</th>\n",
       "      <th>parking_options</th>\n",
       "      <th>image_url</th>\n",
       "      <th>description</th>\n",
       "      <th>lat</th>\n",
       "      <th>long</th>\n",
       "      <th>state</th>\n",
       "    </tr>\n",
       "  </thead>\n",
       "  <tbody>\n",
       "    <tr>\n",
       "      <th>0</th>\n",
       "      <td>7049044568</td>\n",
       "      <td>https://reno.craigslist.org/apa/d/reno-beautif...</td>\n",
       "      <td>reno / tahoe</td>\n",
       "      <td>https://reno.craigslist.org</td>\n",
       "      <td>1148</td>\n",
       "      <td>apartment</td>\n",
       "      <td>1078</td>\n",
       "      <td>3</td>\n",
       "      <td>2.0</td>\n",
       "      <td>1</td>\n",
       "      <td>...</td>\n",
       "      <td>0</td>\n",
       "      <td>0</td>\n",
       "      <td>0</td>\n",
       "      <td>w/d in unit</td>\n",
       "      <td>carport</td>\n",
       "      <td>https://images.craigslist.org/01616_daghmBUvTC...</td>\n",
       "      <td>Ridgeview by Vintage is where you will find al...</td>\n",
       "      <td>39.5483</td>\n",
       "      <td>-119.796</td>\n",
       "      <td>ca</td>\n",
       "    </tr>\n",
       "    <tr>\n",
       "      <th>1</th>\n",
       "      <td>7049047186</td>\n",
       "      <td>https://reno.craigslist.org/apa/d/reno-reduced...</td>\n",
       "      <td>reno / tahoe</td>\n",
       "      <td>https://reno.craigslist.org</td>\n",
       "      <td>1200</td>\n",
       "      <td>condo</td>\n",
       "      <td>1001</td>\n",
       "      <td>2</td>\n",
       "      <td>2.0</td>\n",
       "      <td>0</td>\n",
       "      <td>...</td>\n",
       "      <td>0</td>\n",
       "      <td>0</td>\n",
       "      <td>0</td>\n",
       "      <td>w/d hookups</td>\n",
       "      <td>carport</td>\n",
       "      <td>https://images.craigslist.org/00V0V_5va0MkgO9q...</td>\n",
       "      <td>Conveniently located in the middle town of Ren...</td>\n",
       "      <td>39.5026</td>\n",
       "      <td>-119.789</td>\n",
       "      <td>ca</td>\n",
       "    </tr>\n",
       "    <tr>\n",
       "      <th>2</th>\n",
       "      <td>7043634882</td>\n",
       "      <td>https://reno.craigslist.org/apa/d/sparks-state...</td>\n",
       "      <td>reno / tahoe</td>\n",
       "      <td>https://reno.craigslist.org</td>\n",
       "      <td>1813</td>\n",
       "      <td>apartment</td>\n",
       "      <td>1683</td>\n",
       "      <td>2</td>\n",
       "      <td>2.0</td>\n",
       "      <td>1</td>\n",
       "      <td>...</td>\n",
       "      <td>0</td>\n",
       "      <td>0</td>\n",
       "      <td>0</td>\n",
       "      <td>w/d in unit</td>\n",
       "      <td>attached garage</td>\n",
       "      <td>https://images.craigslist.org/00t0t_erYqC6LgB8...</td>\n",
       "      <td>2BD | 2BA | 1683SQFTDiscover exceptional servi...</td>\n",
       "      <td>39.6269</td>\n",
       "      <td>-119.708</td>\n",
       "      <td>ca</td>\n",
       "    </tr>\n",
       "    <tr>\n",
       "      <th>3</th>\n",
       "      <td>7049045324</td>\n",
       "      <td>https://reno.craigslist.org/apa/d/reno-1x1-fir...</td>\n",
       "      <td>reno / tahoe</td>\n",
       "      <td>https://reno.craigslist.org</td>\n",
       "      <td>1095</td>\n",
       "      <td>apartment</td>\n",
       "      <td>708</td>\n",
       "      <td>1</td>\n",
       "      <td>1.0</td>\n",
       "      <td>1</td>\n",
       "      <td>...</td>\n",
       "      <td>0</td>\n",
       "      <td>0</td>\n",
       "      <td>0</td>\n",
       "      <td>w/d in unit</td>\n",
       "      <td>carport</td>\n",
       "      <td>https://images.craigslist.org/00303_3HSJz75zlI...</td>\n",
       "      <td>MOVE IN SPECIAL FREE WASHER/DRYER WITH 6 OR 12...</td>\n",
       "      <td>39.4477</td>\n",
       "      <td>-119.771</td>\n",
       "      <td>ca</td>\n",
       "    </tr>\n",
       "    <tr>\n",
       "      <th>4</th>\n",
       "      <td>7049043759</td>\n",
       "      <td>https://reno.craigslist.org/apa/d/reno-no-long...</td>\n",
       "      <td>reno / tahoe</td>\n",
       "      <td>https://reno.craigslist.org</td>\n",
       "      <td>289</td>\n",
       "      <td>apartment</td>\n",
       "      <td>250</td>\n",
       "      <td>0</td>\n",
       "      <td>1.0</td>\n",
       "      <td>1</td>\n",
       "      <td>...</td>\n",
       "      <td>1</td>\n",
       "      <td>0</td>\n",
       "      <td>1</td>\n",
       "      <td>laundry on site</td>\n",
       "      <td>NaN</td>\n",
       "      <td>https://images.craigslist.org/01616_fALAWFV8zQ...</td>\n",
       "      <td>Move In Today: Reno Low-Cost, Clean &amp; Furnishe...</td>\n",
       "      <td>39.5357</td>\n",
       "      <td>-119.805</td>\n",
       "      <td>ca</td>\n",
       "    </tr>\n",
       "  </tbody>\n",
       "</table>\n",
       "<p>5 rows × 22 columns</p>\n",
       "</div>"
      ],
      "text/plain": [
       "           id                                                url  \\\n",
       "0  7049044568  https://reno.craigslist.org/apa/d/reno-beautif...   \n",
       "1  7049047186  https://reno.craigslist.org/apa/d/reno-reduced...   \n",
       "2  7043634882  https://reno.craigslist.org/apa/d/sparks-state...   \n",
       "3  7049045324  https://reno.craigslist.org/apa/d/reno-1x1-fir...   \n",
       "4  7049043759  https://reno.craigslist.org/apa/d/reno-no-long...   \n",
       "\n",
       "         region                   region_url  price       type  sqfeet  beds  \\\n",
       "0  reno / tahoe  https://reno.craigslist.org   1148  apartment    1078     3   \n",
       "1  reno / tahoe  https://reno.craigslist.org   1200      condo    1001     2   \n",
       "2  reno / tahoe  https://reno.craigslist.org   1813  apartment    1683     2   \n",
       "3  reno / tahoe  https://reno.craigslist.org   1095  apartment     708     1   \n",
       "4  reno / tahoe  https://reno.craigslist.org    289  apartment     250     0   \n",
       "\n",
       "   baths  cats_allowed  ...  wheelchair_access  electric_vehicle_charge  \\\n",
       "0    2.0             1  ...                  0                        0   \n",
       "1    2.0             0  ...                  0                        0   \n",
       "2    2.0             1  ...                  0                        0   \n",
       "3    1.0             1  ...                  0                        0   \n",
       "4    1.0             1  ...                  1                        0   \n",
       "\n",
       "   comes_furnished  laundry_options  parking_options  \\\n",
       "0                0      w/d in unit          carport   \n",
       "1                0      w/d hookups          carport   \n",
       "2                0      w/d in unit  attached garage   \n",
       "3                0      w/d in unit          carport   \n",
       "4                1  laundry on site              NaN   \n",
       "\n",
       "                                           image_url  \\\n",
       "0  https://images.craigslist.org/01616_daghmBUvTC...   \n",
       "1  https://images.craigslist.org/00V0V_5va0MkgO9q...   \n",
       "2  https://images.craigslist.org/00t0t_erYqC6LgB8...   \n",
       "3  https://images.craigslist.org/00303_3HSJz75zlI...   \n",
       "4  https://images.craigslist.org/01616_fALAWFV8zQ...   \n",
       "\n",
       "                                         description      lat     long  state  \n",
       "0  Ridgeview by Vintage is where you will find al...  39.5483 -119.796     ca  \n",
       "1  Conveniently located in the middle town of Ren...  39.5026 -119.789     ca  \n",
       "2  2BD | 2BA | 1683SQFTDiscover exceptional servi...  39.6269 -119.708     ca  \n",
       "3  MOVE IN SPECIAL FREE WASHER/DRYER WITH 6 OR 12...  39.4477 -119.771     ca  \n",
       "4  Move In Today: Reno Low-Cost, Clean & Furnishe...  39.5357 -119.805     ca  \n",
       "\n",
       "[5 rows x 22 columns]"
      ]
     },
     "execution_count": 3,
     "metadata": {},
     "output_type": "execute_result"
    }
   ],
   "source": [
    "#первые 5 строк\n",
    "data.head() "
   ]
  },
  {
   "cell_type": "code",
   "execution_count": 4,
   "metadata": {},
   "outputs": [
    {
     "data": {
      "text/plain": [
       "(384977, 22)"
      ]
     },
     "execution_count": 4,
     "metadata": {},
     "output_type": "execute_result"
    }
   ],
   "source": [
    "#число строк и столбцов\n",
    "data.shape"
   ]
  },
  {
   "cell_type": "markdown",
   "metadata": {},
   "source": [
    "Датасет содержит 384977 строк и 22 столбца"
   ]
  },
  {
   "cell_type": "code",
   "execution_count": 5,
   "metadata": {},
   "outputs": [
    {
     "data": {
      "text/plain": [
       "Index(['id', 'url', 'region', 'region_url', 'price', 'type', 'sqfeet', 'beds',\n",
       "       'baths', 'cats_allowed', 'dogs_allowed', 'smoking_allowed',\n",
       "       'wheelchair_access', 'electric_vehicle_charge', 'comes_furnished',\n",
       "       'laundry_options', 'parking_options', 'image_url', 'description', 'lat',\n",
       "       'long', 'state'],\n",
       "      dtype='object')"
      ]
     },
     "execution_count": 5,
     "metadata": {},
     "output_type": "execute_result"
    }
   ],
   "source": [
    "#Названия столбцов\n",
    "data.columns"
   ]
  },
  {
   "cell_type": "code",
   "execution_count": 6,
   "metadata": {},
   "outputs": [
    {
     "data": {
      "text/html": [
       "<div>\n",
       "<style scoped>\n",
       "    .dataframe tbody tr th:only-of-type {\n",
       "        vertical-align: middle;\n",
       "    }\n",
       "\n",
       "    .dataframe tbody tr th {\n",
       "        vertical-align: top;\n",
       "    }\n",
       "\n",
       "    .dataframe thead th {\n",
       "        text-align: right;\n",
       "    }\n",
       "</style>\n",
       "<table border=\"1\" class=\"dataframe\">\n",
       "  <thead>\n",
       "    <tr style=\"text-align: right;\">\n",
       "      <th></th>\n",
       "      <th>count</th>\n",
       "      <th>mean</th>\n",
       "      <th>std</th>\n",
       "      <th>min</th>\n",
       "      <th>25%</th>\n",
       "      <th>50%</th>\n",
       "      <th>75%</th>\n",
       "      <th>max</th>\n",
       "    </tr>\n",
       "  </thead>\n",
       "  <tbody>\n",
       "    <tr>\n",
       "      <th>id</th>\n",
       "      <td>384977.0</td>\n",
       "      <td>7.040982e+09</td>\n",
       "      <td>8.800376e+06</td>\n",
       "      <td>7.003808e+09</td>\n",
       "      <td>7.035979e+09</td>\n",
       "      <td>7.043320e+09</td>\n",
       "      <td>7.048426e+09</td>\n",
       "      <td>7.051292e+09</td>\n",
       "    </tr>\n",
       "    <tr>\n",
       "      <th>price</th>\n",
       "      <td>384977.0</td>\n",
       "      <td>8.825722e+03</td>\n",
       "      <td>4.462200e+06</td>\n",
       "      <td>0.000000e+00</td>\n",
       "      <td>8.050000e+02</td>\n",
       "      <td>1.036000e+03</td>\n",
       "      <td>1.395000e+03</td>\n",
       "      <td>2.768307e+09</td>\n",
       "    </tr>\n",
       "    <tr>\n",
       "      <th>sqfeet</th>\n",
       "      <td>384977.0</td>\n",
       "      <td>1.059900e+03</td>\n",
       "      <td>1.915076e+04</td>\n",
       "      <td>0.000000e+00</td>\n",
       "      <td>7.500000e+02</td>\n",
       "      <td>9.490000e+02</td>\n",
       "      <td>1.150000e+03</td>\n",
       "      <td>8.388607e+06</td>\n",
       "    </tr>\n",
       "    <tr>\n",
       "      <th>beds</th>\n",
       "      <td>384977.0</td>\n",
       "      <td>1.905345e+00</td>\n",
       "      <td>3.494572e+00</td>\n",
       "      <td>0.000000e+00</td>\n",
       "      <td>1.000000e+00</td>\n",
       "      <td>2.000000e+00</td>\n",
       "      <td>2.000000e+00</td>\n",
       "      <td>1.100000e+03</td>\n",
       "    </tr>\n",
       "    <tr>\n",
       "      <th>baths</th>\n",
       "      <td>384977.0</td>\n",
       "      <td>1.480718e+00</td>\n",
       "      <td>6.180605e-01</td>\n",
       "      <td>0.000000e+00</td>\n",
       "      <td>1.000000e+00</td>\n",
       "      <td>1.000000e+00</td>\n",
       "      <td>2.000000e+00</td>\n",
       "      <td>7.500000e+01</td>\n",
       "    </tr>\n",
       "    <tr>\n",
       "      <th>cats_allowed</th>\n",
       "      <td>384977.0</td>\n",
       "      <td>7.268902e-01</td>\n",
       "      <td>4.455574e-01</td>\n",
       "      <td>0.000000e+00</td>\n",
       "      <td>0.000000e+00</td>\n",
       "      <td>1.000000e+00</td>\n",
       "      <td>1.000000e+00</td>\n",
       "      <td>1.000000e+00</td>\n",
       "    </tr>\n",
       "    <tr>\n",
       "      <th>dogs_allowed</th>\n",
       "      <td>384977.0</td>\n",
       "      <td>7.079176e-01</td>\n",
       "      <td>4.547206e-01</td>\n",
       "      <td>0.000000e+00</td>\n",
       "      <td>0.000000e+00</td>\n",
       "      <td>1.000000e+00</td>\n",
       "      <td>1.000000e+00</td>\n",
       "      <td>1.000000e+00</td>\n",
       "    </tr>\n",
       "    <tr>\n",
       "      <th>smoking_allowed</th>\n",
       "      <td>384977.0</td>\n",
       "      <td>7.317710e-01</td>\n",
       "      <td>4.430381e-01</td>\n",
       "      <td>0.000000e+00</td>\n",
       "      <td>0.000000e+00</td>\n",
       "      <td>1.000000e+00</td>\n",
       "      <td>1.000000e+00</td>\n",
       "      <td>1.000000e+00</td>\n",
       "    </tr>\n",
       "    <tr>\n",
       "      <th>wheelchair_access</th>\n",
       "      <td>384977.0</td>\n",
       "      <td>8.211140e-02</td>\n",
       "      <td>2.745347e-01</td>\n",
       "      <td>0.000000e+00</td>\n",
       "      <td>0.000000e+00</td>\n",
       "      <td>0.000000e+00</td>\n",
       "      <td>0.000000e+00</td>\n",
       "      <td>1.000000e+00</td>\n",
       "    </tr>\n",
       "    <tr>\n",
       "      <th>electric_vehicle_charge</th>\n",
       "      <td>384977.0</td>\n",
       "      <td>1.287090e-02</td>\n",
       "      <td>1.127177e-01</td>\n",
       "      <td>0.000000e+00</td>\n",
       "      <td>0.000000e+00</td>\n",
       "      <td>0.000000e+00</td>\n",
       "      <td>0.000000e+00</td>\n",
       "      <td>1.000000e+00</td>\n",
       "    </tr>\n",
       "    <tr>\n",
       "      <th>comes_furnished</th>\n",
       "      <td>384977.0</td>\n",
       "      <td>4.812755e-02</td>\n",
       "      <td>2.140360e-01</td>\n",
       "      <td>0.000000e+00</td>\n",
       "      <td>0.000000e+00</td>\n",
       "      <td>0.000000e+00</td>\n",
       "      <td>0.000000e+00</td>\n",
       "      <td>1.000000e+00</td>\n",
       "    </tr>\n",
       "    <tr>\n",
       "      <th>lat</th>\n",
       "      <td>383059.0</td>\n",
       "      <td>3.723349e+01</td>\n",
       "      <td>5.546171e+00</td>\n",
       "      <td>-4.353330e+01</td>\n",
       "      <td>3.345470e+01</td>\n",
       "      <td>3.764780e+01</td>\n",
       "      <td>4.113830e+01</td>\n",
       "      <td>1.020360e+02</td>\n",
       "    </tr>\n",
       "    <tr>\n",
       "      <th>long</th>\n",
       "      <td>383059.0</td>\n",
       "      <td>-9.270063e+01</td>\n",
       "      <td>1.653198e+01</td>\n",
       "      <td>-1.638940e+02</td>\n",
       "      <td>-1.007750e+02</td>\n",
       "      <td>-8.774510e+01</td>\n",
       "      <td>-8.117960e+01</td>\n",
       "      <td>1.726330e+02</td>\n",
       "    </tr>\n",
       "  </tbody>\n",
       "</table>\n",
       "</div>"
      ],
      "text/plain": [
       "                            count          mean           std           min  \\\n",
       "id                       384977.0  7.040982e+09  8.800376e+06  7.003808e+09   \n",
       "price                    384977.0  8.825722e+03  4.462200e+06  0.000000e+00   \n",
       "sqfeet                   384977.0  1.059900e+03  1.915076e+04  0.000000e+00   \n",
       "beds                     384977.0  1.905345e+00  3.494572e+00  0.000000e+00   \n",
       "baths                    384977.0  1.480718e+00  6.180605e-01  0.000000e+00   \n",
       "cats_allowed             384977.0  7.268902e-01  4.455574e-01  0.000000e+00   \n",
       "dogs_allowed             384977.0  7.079176e-01  4.547206e-01  0.000000e+00   \n",
       "smoking_allowed          384977.0  7.317710e-01  4.430381e-01  0.000000e+00   \n",
       "wheelchair_access        384977.0  8.211140e-02  2.745347e-01  0.000000e+00   \n",
       "electric_vehicle_charge  384977.0  1.287090e-02  1.127177e-01  0.000000e+00   \n",
       "comes_furnished          384977.0  4.812755e-02  2.140360e-01  0.000000e+00   \n",
       "lat                      383059.0  3.723349e+01  5.546171e+00 -4.353330e+01   \n",
       "long                     383059.0 -9.270063e+01  1.653198e+01 -1.638940e+02   \n",
       "\n",
       "                                  25%           50%           75%  \\\n",
       "id                       7.035979e+09  7.043320e+09  7.048426e+09   \n",
       "price                    8.050000e+02  1.036000e+03  1.395000e+03   \n",
       "sqfeet                   7.500000e+02  9.490000e+02  1.150000e+03   \n",
       "beds                     1.000000e+00  2.000000e+00  2.000000e+00   \n",
       "baths                    1.000000e+00  1.000000e+00  2.000000e+00   \n",
       "cats_allowed             0.000000e+00  1.000000e+00  1.000000e+00   \n",
       "dogs_allowed             0.000000e+00  1.000000e+00  1.000000e+00   \n",
       "smoking_allowed          0.000000e+00  1.000000e+00  1.000000e+00   \n",
       "wheelchair_access        0.000000e+00  0.000000e+00  0.000000e+00   \n",
       "electric_vehicle_charge  0.000000e+00  0.000000e+00  0.000000e+00   \n",
       "comes_furnished          0.000000e+00  0.000000e+00  0.000000e+00   \n",
       "lat                      3.345470e+01  3.764780e+01  4.113830e+01   \n",
       "long                    -1.007750e+02 -8.774510e+01 -8.117960e+01   \n",
       "\n",
       "                                  max  \n",
       "id                       7.051292e+09  \n",
       "price                    2.768307e+09  \n",
       "sqfeet                   8.388607e+06  \n",
       "beds                     1.100000e+03  \n",
       "baths                    7.500000e+01  \n",
       "cats_allowed             1.000000e+00  \n",
       "dogs_allowed             1.000000e+00  \n",
       "smoking_allowed          1.000000e+00  \n",
       "wheelchair_access        1.000000e+00  \n",
       "electric_vehicle_charge  1.000000e+00  \n",
       "comes_furnished          1.000000e+00  \n",
       "lat                      1.020360e+02  \n",
       "long                     1.726330e+02  "
      ]
     },
     "execution_count": 6,
     "metadata": {},
     "output_type": "execute_result"
    }
   ],
   "source": [
    "#Краткая информация для каждого столбца\n",
    "data.describe().T"
   ]
  },
  {
   "cell_type": "code",
   "execution_count": 7,
   "metadata": {},
   "outputs": [
    {
     "data": {
      "text/plain": [
       "id                          -1.097089\n",
       "price                      620.241559\n",
       "sqfeet                     409.945299\n",
       "beds                       282.238038\n",
       "baths                       10.101872\n",
       "cats_allowed                -1.018461\n",
       "dogs_allowed                -0.914490\n",
       "smoking_allowed             -1.046286\n",
       "wheelchair_access            3.044356\n",
       "electric_vehicle_charge      8.643395\n",
       "comes_furnished              4.222419\n",
       "lat                          0.253839\n",
       "long                        -0.045888\n",
       "dtype: float64"
      ]
     },
     "execution_count": 7,
     "metadata": {},
     "output_type": "execute_result"
    }
   ],
   "source": [
    "#Посмотрим асимметрию данных\n",
    "data.skew()"
   ]
  },
  {
   "cell_type": "markdown",
   "metadata": {},
   "source": [
    "Асимметрия используется для оценки симметричности\\асимметричности данных."
   ]
  },
  {
   "cell_type": "markdown",
   "metadata": {},
   "source": [
    "Видим, что цена, площадь, количество кроватей, количество ванн имеют большую по модулю, большую нуля асимметрию. "
   ]
  },
  {
   "cell_type": "markdown",
   "metadata": {},
   "source": [
    "Значит данные имеют перекос вправо."
   ]
  },
  {
   "cell_type": "code",
   "execution_count": 8,
   "metadata": {},
   "outputs": [
    {
     "name": "stdout",
     "output_type": "stream",
     "text": [
      "<class 'pandas.core.frame.DataFrame'>\n",
      "RangeIndex: 384977 entries, 0 to 384976\n",
      "Data columns (total 22 columns):\n",
      " #   Column                   Non-Null Count   Dtype  \n",
      "---  ------                   --------------   -----  \n",
      " 0   id                       384977 non-null  int64  \n",
      " 1   url                      384977 non-null  object \n",
      " 2   region                   384977 non-null  object \n",
      " 3   region_url               384977 non-null  object \n",
      " 4   price                    384977 non-null  int64  \n",
      " 5   type                     384977 non-null  object \n",
      " 6   sqfeet                   384977 non-null  int64  \n",
      " 7   beds                     384977 non-null  int64  \n",
      " 8   baths                    384977 non-null  float64\n",
      " 9   cats_allowed             384977 non-null  int64  \n",
      " 10  dogs_allowed             384977 non-null  int64  \n",
      " 11  smoking_allowed          384977 non-null  int64  \n",
      " 12  wheelchair_access        384977 non-null  int64  \n",
      " 13  electric_vehicle_charge  384977 non-null  int64  \n",
      " 14  comes_furnished          384977 non-null  int64  \n",
      " 15  laundry_options          305951 non-null  object \n",
      " 16  parking_options          244290 non-null  object \n",
      " 17  image_url                384977 non-null  object \n",
      " 18  description              384975 non-null  object \n",
      " 19  lat                      383059 non-null  float64\n",
      " 20  long                     383059 non-null  float64\n",
      " 21  state                    384977 non-null  object \n",
      "dtypes: float64(3), int64(10), object(9)\n",
      "memory usage: 64.6+ MB\n"
     ]
    }
   ],
   "source": [
    "#общая информация по данным. Оценим количество пропущенных значений и типы данных в каждом столбце \n",
    "data.info()"
   ]
  },
  {
   "cell_type": "markdown",
   "metadata": {},
   "source": [
    "Видим, что имеются типы данных: float, int, object"
   ]
  },
  {
   "cell_type": "markdown",
   "metadata": {},
   "source": [
    "Таким образом, численных признаков: 13. Категориальных признаков: 9."
   ]
  },
  {
   "cell_type": "markdown",
   "metadata": {},
   "source": [
    "Видим, что имеются пропуски в столбцах: laundry_options, parking_options, description, lat, long."
   ]
  },
  {
   "cell_type": "markdown",
   "metadata": {},
   "source": [
    "# Null значения"
   ]
  },
  {
   "cell_type": "code",
   "execution_count": 9,
   "metadata": {},
   "outputs": [
    {
     "data": {
      "image/png": "[encoded data removed]",
      "text/plain": [
       "<Figure size 576x576 with 1 Axes>"
      ]
     },
     "metadata": {
      "needs_background": "light"
     },
     "output_type": "display_data"
    }
   ],
   "source": [
    "#Создадим пространоство для графика\n",
    "fig, ax1 =  plt.subplots(nrows=1, ncols=1, figsize=(8, 8))\n",
    "\n",
    "#Найдем количество пропущенных значений и возьмем только те столбцы, где это значение больше 0\n",
    "null_data = data.isnull().sum()\n",
    "null_data = null_data[null_data > 0]\n",
    "null_data.sort_values(inplace=True)\n",
    "columns = ['laundry_options', 'parking_options', 'description', 'lat', 'long']\n",
    "\n",
    "ax1.bar(x=columns, height=null_data, color='red')\n",
    "ax1.set_title('Количество null значений в столбцах')\n",
    "ax1.set_ylabel('Null значения');"
   ]
  },
  {
   "cell_type": "markdown",
   "metadata": {},
   "source": [
    "Пропущенные значения только в 5 столбцах: laundry_options, parking_options, description, lat, long."
   ]
  },
  {
   "cell_type": "markdown",
   "metadata": {},
   "source": [
    "Из них 3 имеют тип данных object (laundry_options, parking_options, description)."
   ]
  },
  {
   "cell_type": "markdown",
   "metadata": {},
   "source": [
    "И 2 имеют тип данных float (lat, long)"
   ]
  },
  {
   "cell_type": "markdown",
   "metadata": {},
   "source": [
    "Проверим значения price и sqfeet на адекватность. Эти значения должны быть больше 0. "
   ]
  },
  {
   "cell_type": "code",
   "execution_count": 10,
   "metadata": {},
   "outputs": [
    {
     "data": {
      "text/plain": [
       "48"
      ]
     },
     "execution_count": 10,
     "metadata": {},
     "output_type": "execute_result"
    }
   ],
   "source": [
    "#Найдем значения с значением площади <= 0\n",
    "zeroSqeet_data = data[data['sqfeet'] <= 0]\n",
    "zeroSqeet_data.shape[0]"
   ]
  },
  {
   "cell_type": "markdown",
   "metadata": {},
   "source": [
    "Имеем 48 строк с отрицательным или нулевым значением площади."
   ]
  },
  {
   "cell_type": "code",
   "execution_count": 11,
   "metadata": {},
   "outputs": [
    {
     "data": {
      "text/plain": [
       "1307"
      ]
     },
     "execution_count": 11,
     "metadata": {},
     "output_type": "execute_result"
    }
   ],
   "source": [
    "#Найдем значения с значением цены <= 0\n",
    "zeroPrice_data = data[data['price'] <= 0]\n",
    "zeroPrice_data.shape[0]"
   ]
  },
  {
   "cell_type": "markdown",
   "metadata": {},
   "source": [
    "Имеем 1307 строк с отрицательным или нулевым значением цены."
   ]
  },
  {
   "cell_type": "markdown",
   "metadata": {},
   "source": [
    "# Обработка null значений"
   ]
  },
  {
   "cell_type": "markdown",
   "metadata": {},
   "source": [
    "Для данных столбцов может подразумеваться, что парковки нет. Изменим данные значения на 'Отсутствует'"
   ]
  },
  {
   "cell_type": "code",
   "execution_count": 12,
   "metadata": {},
   "outputs": [],
   "source": [
    "#Заменяем nan на значнеие отсутствия определенной опции или описания\n",
    "data['parking_options'] = data['parking_options'].replace(np.nan, 'no parking')\n",
    "data['laundry_options'] = data['laundry_options'].replace(np.nan, 'no laundry on site')\n",
    "data['description'] = data['description'].replace(np.nan, 'no description')"
   ]
  },
  {
   "cell_type": "markdown",
   "metadata": {},
   "source": [
    "Значения площади и цены зависят от типа жилья. Подставим средние значения относящиеся к каждому типу."
   ]
  },
  {
   "cell_type": "code",
   "execution_count": 13,
   "metadata": {},
   "outputs": [],
   "source": [
    "#Средние значения цены для каждого типа жилья\n",
    "meanPrice_type = data.groupby('type')['price'].mean()\n",
    "\n",
    "#Типы жилья\n",
    "types = sorted(data['type'].unique())\n",
    "\n",
    "for i in range(len(types)):\n",
    "    data.loc[((data['type'] == types[i]) & (data['price'] <= 0), 'price')] = meanPrice_type[i]"
   ]
  },
  {
   "cell_type": "code",
   "execution_count": 14,
   "metadata": {},
   "outputs": [],
   "source": [
    "#Средние значения площади для каждого типа жилья\n",
    "meanSqfeet_type = data.groupby('type')['sqfeet'].mean()\n",
    "\n",
    "#Типы жилья\n",
    "types = sorted(data['type'].unique())\n",
    "\n",
    "for i in range(len(types)):\n",
    "    data.loc[((data['type'] == types[i]) & (data['sqfeet'] <= 0), 'sqfeet')] = meanSqfeet_type[i]"
   ]
  },
  {
   "cell_type": "markdown",
   "metadata": {},
   "source": [
    "# Целевой признак"
   ]
  },
  {
   "cell_type": "markdown",
   "metadata": {},
   "source": [
    "Целевым признаком выбран **Price**"
   ]
  },
  {
   "cell_type": "code",
   "execution_count": 15,
   "metadata": {},
   "outputs": [
    {
     "data": {
      "text/plain": [
       "count    3.849770e+05\n",
       "mean     8.855591e+03\n",
       "std      4.462200e+06\n",
       "min      1.000000e+00\n",
       "25%      8.100000e+02\n",
       "50%      1.044000e+03\n",
       "75%      1.400000e+03\n",
       "max      2.768307e+09\n",
       "Name: price, dtype: float64"
      ]
     },
     "execution_count": 15,
     "metadata": {},
     "output_type": "execute_result"
    }
   ],
   "source": [
    "data['price'].describe().T"
   ]
  },
  {
   "cell_type": "markdown",
   "metadata": {},
   "source": [
    "Наша целевая функция - это непрерывная переменная со значениями в диапазоне от 1 до 2.768307e+09"
   ]
  },
  {
   "cell_type": "markdown",
   "metadata": {},
   "source": [
    "Видим, что имеются выбросы. Построим boxplot для наглядной демонстрации."
   ]
  },
  {
   "cell_type": "code",
   "execution_count": 16,
   "metadata": {},
   "outputs": [
    {
     "data": {
      "image/png": "[encoded data removed]",
      "text/plain": [
       "<Figure size 432x288 with 1 Axes>"
      ]
     },
     "metadata": {
      "needs_background": "light"
     },
     "output_type": "display_data"
    }
   ],
   "source": [
    "plt.boxplot(data['price'])\n",
    "plt.ylabel('price')\n",
    "plt.title('Значения признака price');"
   ]
  },
  {
   "cell_type": "markdown",
   "metadata": {},
   "source": [
    "Согласно базовому определению выбросов **IQR**, значения меньше **Q1-1.5 * IQR** и значения выше **Q3 + 1.5 * IQR** рассматриваются как выбросы."
   ]
  },
  {
   "cell_type": "code",
   "execution_count": 17,
   "metadata": {},
   "outputs": [],
   "source": [
    "#найдем 25 и 75 квантили\n",
    "Q1 = data['price'].quantile(0.25)\n",
    "Q3 = data['price'].quantile(0.75)\n",
    "\n",
    "#расчет интерквартильного размаха\n",
    "IQR = Q3 - Q1"
   ]
  },
  {
   "cell_type": "code",
   "execution_count": 18,
   "metadata": {},
   "outputs": [
    {
     "data": {
      "image/png": "[encoded data removed]",
      "text/plain": [
       "<Figure size 720x576 with 2 Axes>"
      ]
     },
     "metadata": {
      "needs_background": "light"
     },
     "output_type": "display_data"
    }
   ],
   "source": [
    "#отбираем данные, которые лежат от 25 квантиля до 75 квантиля\n",
    "data_IQR = data[(data['price'] > (Q1-1.5*IQR)) & (data['price'] < (Q3+1.5*IQR))]\n",
    "\n",
    "#cоздадим пространоство для графика\n",
    "fig, (ax1, ax2) =  plt.subplots(nrows=1, ncols=2, figsize=(10, 8))\n",
    "\n",
    "#построим гистограмму\n",
    "ax1.hist(x=data_IQR['price'])\n",
    "ax1.set_xlabel('price')\n",
    "ax1.set_ylabel('count')\n",
    "ax1.grid()\n",
    "ax1.set_title('Распределение price')\n",
    "\n",
    "ax2.boxplot(x=data_IQR['price'])\n",
    "ax2.set_ylabel('price')\n",
    "ax2.set_title('boxplot для price')\n",
    "\n",
    "plt.show()"
   ]
  },
  {
   "cell_type": "markdown",
   "metadata": {},
   "source": [
    "Распределение признака price имеет перекос вправо"
   ]
  },
  {
   "cell_type": "markdown",
   "metadata": {},
   "source": [
    "Медиана имеет меньшее значение чем среднее, так как имеется перекос вправо."
   ]
  },
  {
   "cell_type": "markdown",
   "metadata": {},
   "source": [
    "# Price и другие признаки"
   ]
  },
  {
   "cell_type": "markdown",
   "metadata": {},
   "source": [
    "Исследуем воздействие признаков на целевой признак price"
   ]
  },
  {
   "cell_type": "markdown",
   "metadata": {},
   "source": [
    "# Воздействие категориальных признаков"
   ]
  },
  {
   "cell_type": "markdown",
   "metadata": {},
   "source": [
    "Исследуем зависимость цены от типа жилья"
   ]
  },
  {
   "cell_type": "code",
   "execution_count": 19,
   "metadata": {},
   "outputs": [
    {
     "data": {
      "image/png": "[encoded data removed]",
      "text/plain": [
       "<Figure size 1080x360 with 1 Axes>"
      ]
     },
     "metadata": {
      "needs_background": "light"
     },
     "output_type": "display_data"
    }
   ],
   "source": [
    "#выделяем пространство для графика\n",
    "fig = plt.figure(figsize=(15,5))\n",
    "\n",
    "#группируем данные по типу и считаем для каждой группы среднее\n",
    "table = data_IQR.groupby(['type'], as_index=False)['price'].mean().sort_values(by='price', ascending=False)\n",
    "\n",
    "#построение boxplot'а\n",
    "ax = sns.boxplot(data=data_IQR, x=\"type\", y=\"price\", order=table['type'].to_list(), palette=\"Set1\")\n",
    "ax.set_xticklabels(ax.get_xticklabels(), rotation=45);\n",
    "fig.suptitle(\"Price(type) \",fontsize=25);"
   ]
  },
  {
   "cell_type": "markdown",
   "metadata": {},
   "source": [
    "Выдвинем **гипотезу**, что математические ожидания цен разных типов жилья равны."
   ]
  },
  {
   "cell_type": "markdown",
   "metadata": {},
   "source": [
    "$$H_0: m_1 = m_2 = ... = m_k$$"
   ]
  },
  {
   "cell_type": "markdown",
   "metadata": {},
   "source": [
    "Используем однофакторный дисперсионный анализ(ANOVA)"
   ]
  },
  {
   "cell_type": "markdown",
   "metadata": {},
   "source": [
    "type - группировочный признак"
   ]
  },
  {
   "cell_type": "markdown",
   "metadata": {},
   "source": [
    "price - результативный"
   ]
  },
  {
   "cell_type": "markdown",
   "metadata": {},
   "source": [
    "В дисперсионном анализе выдвигаются следующие предположения:"
   ]
  },
  {
   "cell_type": "markdown",
   "metadata": {},
   "source": [
    "1) все случайные величины X1,…, XK имеют нормальное распределение;"
   ]
  },
  {
   "cell_type": "markdown",
   "metadata": {},
   "source": [
    "2) выборки из каждой группы являются независимыми;"
   ]
  },
  {
   "cell_type": "markdown",
   "metadata": {},
   "source": [
    "3) дисперсии случайных величин X1,…,XK равны (такие случайные величины называются гомоскедастичными)."
   ]
  },
  {
   "cell_type": "markdown",
   "metadata": {},
   "source": [
    "Исследуем распределения на нормальность. Воспользуемся критерием **Шапиро-Уилка**. Почему он? Потому что он один из самых мощных критериев и позволяет работать с выборкой данного размера. Выберем уровень значимости **alpha = 0.05**."
   ]
  },
  {
   "cell_type": "code",
   "execution_count": 20,
   "metadata": {},
   "outputs": [
    {
     "name": "stderr",
     "output_type": "stream",
     "text": [
      "D:\\Anaconda\\lib\\site-packages\\scipy\\stats\\morestats.py:1681: UserWarning: p-value may not be accurate for N > 5000.\n",
      "  warnings.warn(\"p-value may not be accurate for N > 5000.\")\n"
     ]
    },
    {
     "name": "stdout",
     "output_type": "stream",
     "text": [
      "apartment: statistic  0.964  p_value 0.000\n",
      "condo: statistic  0.989  p_value 0.000\n",
      "house: statistic  0.965  p_value 0.000\n",
      "duplex: statistic  0.970  p_value 0.000\n",
      "loft: statistic  0.976  p_value 0.000\n",
      "manufactured: statistic  0.969  p_value 0.000\n",
      "cottage/cabin: statistic  0.964  p_value 0.000\n",
      "flat: statistic  0.975  p_value 0.000\n",
      "in-law: statistic  0.988  p_value 0.182\n",
      "land: statistic  0.723  p_value 0.007\n"
     ]
    }
   ],
   "source": [
    "#Получаем список типов жилья, чтобы проверить выборки на нормальность\n",
    "types = data_IQR['type'].unique()\n",
    "\n",
    "for _ in types:\n",
    "    if ((_ == 'townhouse') | (_ == 'assisted living')): #этих типов жилья меньше 3 и они не могут быть исследованы на нормальность\n",
    "        continue\n",
    "    stat, p_value = stats.shapiro(data_IQR[data_IQR['type'] == _]['price'])\n",
    "    print(_, ': statistic  ', '%.3f' %stat, '  p_value ', '%.3f' %p_value, sep='')"
   ]
  },
  {
   "cell_type": "markdown",
   "metadata": {},
   "source": [
    "Видим, что нормальное распределение имеет только in-law."
   ]
  },
  {
   "cell_type": "markdown",
   "metadata": {},
   "source": [
    "Но **дисперсионный анализ** является слабо чувствительным (**робастным**) к требованию о нормальности распределения наблюдаемых случайных величин при больших объёмах выборок"
   ]
  },
  {
   "cell_type": "markdown",
   "metadata": {},
   "source": [
    "Проведем оценку равенства дисперсий исследуемых метрик в группах. Пусть уровень значимости **alpha = 0.05**. Воспользуемся **критерием Левена**, потому что мы знаем, что наши данные имеют распределение отличное от нормального, исходя из предыдущего теста и позволяет работать с выборкой данного размера."
   ]
  },
  {
   "cell_type": "code",
   "execution_count": 21,
   "metadata": {},
   "outputs": [
    {
     "data": {
      "text/plain": [
       "LeveneResult(statistic=550.332748331787, pvalue=0.0)"
      ]
     },
     "execution_count": 21,
     "metadata": {},
     "output_type": "execute_result"
    }
   ],
   "source": [
    "stats.levene(data_IQR[data_IQR['type'] == 'apartment']['price'],\n",
    "                        data_IQR[data_IQR['type'] == 'condo']['price'],\n",
    "                        data_IQR[data_IQR['type'] == 'house']['price'],\n",
    "                        data_IQR[data_IQR['type'] == 'duplex']['price'],\n",
    "                        data_IQR[data_IQR['type'] == 'loft']['price'],\n",
    "                        data_IQR[data_IQR['type'] == 'manufactured']['price'],\n",
    "                        data_IQR[data_IQR['type'] == 'cottage/cabin']['price'],\n",
    "                        data_IQR[data_IQR['type'] == 'flat']['price'],\n",
    "                        data_IQR[data_IQR['type'] == 'in-law']['price'],\n",
    "                        data_IQR[data_IQR['type'] == 'land']['price'])"
   ]
  },
  {
   "cell_type": "markdown",
   "metadata": {},
   "source": [
    "Выборки имеют различные дисперсии, так как **p_value < alpha**."
   ]
  },
  {
   "cell_type": "markdown",
   "metadata": {},
   "source": [
    "При нарушении требования их гомоскедастичности наблюдается рост вероятности ошибки второго рода."
   ]
  },
  {
   "cell_type": "markdown",
   "metadata": {},
   "source": [
    "Проведем однофакторный дисперсионный анализ:"
   ]
  },
  {
   "cell_type": "code",
   "execution_count": 22,
   "metadata": {},
   "outputs": [
    {
     "data": {
      "text/plain": [
       "F_onewayResult(statistic=418.3730599561138, pvalue=0.0)"
      ]
     },
     "execution_count": 22,
     "metadata": {},
     "output_type": "execute_result"
    }
   ],
   "source": [
    "stats.f_oneway(data_IQR[data_IQR['type'] == 'apartment']['price'],\n",
    "               data_IQR[data_IQR['type'] == 'condo']['price'],\n",
    "               data_IQR[data_IQR['type'] == 'house']['price'],\n",
    "               data_IQR[data_IQR['type'] == 'duplex']['price'],\n",
    "               data_IQR[data_IQR['type'] == 'loft']['price'],\n",
    "               data_IQR[data_IQR['type'] == 'manufactured']['price'],\n",
    "               data_IQR[data_IQR['type'] == 'cottage/cabin']['price'],\n",
    "               data_IQR[data_IQR['type'] == 'flat']['price'],\n",
    "               data_IQR[data_IQR['type'] == 'in-law']['price'],\n",
    "               data_IQR[data_IQR['type'] == 'land']['price'])"
   ]
  },
  {
   "cell_type": "markdown",
   "metadata": {},
   "source": [
    "Получаем, что **гипотеза о равенстве мат.ожиданий отвергается**."
   ]
  },
  {
   "cell_type": "markdown",
   "metadata": {},
   "source": [
    "Узнаем какие именно математические ожидания значимо отличаются, а какие равны."
   ]
  },
  {
   "cell_type": "markdown",
   "metadata": {},
   "source": [
    "$$H_0: m_i = m_j, i=1..k, j=1..k$$"
   ]
  },
  {
   "cell_type": "markdown",
   "metadata": {},
   "source": [
    "$$H_1: m_i <> m_j, i=1..k, j=1..k$$"
   ]
  },
  {
   "cell_type": "markdown",
   "metadata": {},
   "source": [
    "Однако такой способ проверки имеет существенный недостаток. При проверке одной параметрической гипотезы задаётся некоторый уровень значимости α, определяющий вероятность ошибки первого рода, т.е. отклонения основной гипотезы при условии её истинности. При проверке множества параметрических гипотез, каждую на уровне значимости α, с использованием статистики критерия Стьюдента, вероятность ошибочно обнаружить различие в математических ожиданиях будет расти с числом проверяемых гипотез."
   ]
  },
  {
   "cell_type": "markdown",
   "metadata": {},
   "source": [
    "Используем **критерий Тьюки** используется для проверки нулевой гипотезы"
   ]
  },
  {
   "cell_type": "markdown",
   "metadata": {},
   "source": [
    "$$H_0: m_i = m_j, i=1..k, j=1..k$$"
   ]
  },
  {
   "cell_type": "markdown",
   "metadata": {},
   "source": [
    "$$H_1: m_i <> m_j, i=1..k, j=1..k$$"
   ]
  },
  {
   "cell_type": "markdown",
   "metadata": {},
   "source": [
    "Благодаря тому обстоятельству, что **в формулу вычисления стандартной ошибки входит внутригрупповая дисперсия, обеспечивается контроль над групповой вероятностью ошибки первого рода**. Именно это делает критерий Тьюки подходящим критерием для выполнения большого числа попарных сравнений групповых средних."
   ]
  },
  {
   "cell_type": "code",
   "execution_count": 23,
   "metadata": {},
   "outputs": [],
   "source": [
    "#перегоняем данные о ценах на жилье в отдельные dataframes для удобства\n",
    "x1_df = pd.DataFrame({'apartment': data_IQR[data_IQR['type'] == 'apartment']['price'].values})\n",
    "x2_df = pd.DataFrame({'condo': data_IQR[data_IQR['type'] == 'condo']['price'].values})\n",
    "x3_df = pd.DataFrame({'house': data_IQR[data_IQR['type'] == 'house']['price'].values})\n",
    "x4_df = pd.DataFrame({'duplex': data_IQR[data_IQR['type'] == 'duplex']['price'].values})\n",
    "x5_df = pd.DataFrame({'loft': data_IQR[data_IQR['type'] == 'loft']['price'].values})\n",
    "x6_df = pd.DataFrame({'manufactured': data_IQR[data_IQR['type'] == 'manufactured']['price'].values})\n",
    "x7_df = pd.DataFrame({'cottage/cabin': data_IQR[data_IQR['type'] == 'cottage/cabin']['price'].values})\n",
    "x8_df = pd.DataFrame({'flat': data_IQR[data_IQR['type'] == 'flat']['price'].values})\n",
    "x9_df = pd.DataFrame({'in-law': data_IQR[data_IQR['type'] == 'in-law']['price'].values})\n",
    "x10_df = pd.DataFrame({'land': data_IQR[data_IQR['type'] == 'land']['price'].values})\n",
    "\n",
    "#загоняем их все в один dataframe\n",
    "df = pd.concat([x1_df, x2_df, x3_df, x4_df, x5_df, x6_df, x7_df, x8_df, x9_df, x10_df], axis=1)"
   ]
  },
  {
   "cell_type": "code",
   "execution_count": 24,
   "metadata": {},
   "outputs": [
    {
     "data": {
      "text/html": [
       "<div>\n",
       "<style scoped>\n",
       "    .dataframe tbody tr th:only-of-type {\n",
       "        vertical-align: middle;\n",
       "    }\n",
       "\n",
       "    .dataframe tbody tr th {\n",
       "        vertical-align: top;\n",
       "    }\n",
       "\n",
       "    .dataframe thead th {\n",
       "        text-align: right;\n",
       "    }\n",
       "</style>\n",
       "<table border=\"1\" class=\"dataframe\">\n",
       "  <thead>\n",
       "    <tr style=\"text-align: right;\">\n",
       "      <th></th>\n",
       "      <th>apartment</th>\n",
       "      <th>condo</th>\n",
       "      <th>house</th>\n",
       "      <th>duplex</th>\n",
       "      <th>loft</th>\n",
       "      <th>manufactured</th>\n",
       "      <th>cottage/cabin</th>\n",
       "      <th>flat</th>\n",
       "      <th>in-law</th>\n",
       "      <th>land</th>\n",
       "    </tr>\n",
       "  </thead>\n",
       "  <tbody>\n",
       "    <tr>\n",
       "      <th>0</th>\n",
       "      <td>1148.0</td>\n",
       "      <td>1200.0</td>\n",
       "      <td>2195.0</td>\n",
       "      <td>1495.0</td>\n",
       "      <td>1675.0</td>\n",
       "      <td>1025.0</td>\n",
       "      <td>1300.0</td>\n",
       "      <td>1795.0</td>\n",
       "      <td>925.0</td>\n",
       "      <td>1500.0</td>\n",
       "    </tr>\n",
       "    <tr>\n",
       "      <th>1</th>\n",
       "      <td>1813.0</td>\n",
       "      <td>1295.0</td>\n",
       "      <td>1899.0</td>\n",
       "      <td>1050.0</td>\n",
       "      <td>1800.0</td>\n",
       "      <td>1350.0</td>\n",
       "      <td>1200.0</td>\n",
       "      <td>1100.0</td>\n",
       "      <td>1375.0</td>\n",
       "      <td>350.0</td>\n",
       "    </tr>\n",
       "    <tr>\n",
       "      <th>2</th>\n",
       "      <td>1095.0</td>\n",
       "      <td>995.0</td>\n",
       "      <td>895.0</td>\n",
       "      <td>1395.0</td>\n",
       "      <td>1100.0</td>\n",
       "      <td>945.0</td>\n",
       "      <td>1000.0</td>\n",
       "      <td>1595.0</td>\n",
       "      <td>1295.0</td>\n",
       "      <td>550.0</td>\n",
       "    </tr>\n",
       "    <tr>\n",
       "      <th>3</th>\n",
       "      <td>289.0</td>\n",
       "      <td>1625.0</td>\n",
       "      <td>1595.0</td>\n",
       "      <td>1395.0</td>\n",
       "      <td>1500.0</td>\n",
       "      <td>1150.0</td>\n",
       "      <td>1509.0</td>\n",
       "      <td>1200.0</td>\n",
       "      <td>1495.0</td>\n",
       "      <td>550.0</td>\n",
       "    </tr>\n",
       "    <tr>\n",
       "      <th>4</th>\n",
       "      <td>1093.0</td>\n",
       "      <td>1100.0</td>\n",
       "      <td>1195.0</td>\n",
       "      <td>995.0</td>\n",
       "      <td>1375.0</td>\n",
       "      <td>1130.0</td>\n",
       "      <td>1300.0</td>\n",
       "      <td>1550.0</td>\n",
       "      <td>1625.0</td>\n",
       "      <td>500.0</td>\n",
       "    </tr>\n",
       "  </tbody>\n",
       "</table>\n",
       "</div>"
      ],
      "text/plain": [
       "   apartment   condo   house  duplex    loft  manufactured  cottage/cabin  \\\n",
       "0     1148.0  1200.0  2195.0  1495.0  1675.0        1025.0         1300.0   \n",
       "1     1813.0  1295.0  1899.0  1050.0  1800.0        1350.0         1200.0   \n",
       "2     1095.0   995.0   895.0  1395.0  1100.0         945.0         1000.0   \n",
       "3      289.0  1625.0  1595.0  1395.0  1500.0        1150.0         1509.0   \n",
       "4     1093.0  1100.0  1195.0   995.0  1375.0        1130.0         1300.0   \n",
       "\n",
       "     flat  in-law    land  \n",
       "0  1795.0   925.0  1500.0  \n",
       "1  1100.0  1375.0   350.0  \n",
       "2  1595.0  1295.0   550.0  \n",
       "3  1200.0  1495.0   550.0  \n",
       "4  1550.0  1625.0   500.0  "
      ]
     },
     "execution_count": 24,
     "metadata": {},
     "output_type": "execute_result"
    }
   ],
   "source": [
    "#посмотрим что получлось\n",
    "df.head()"
   ]
  },
  {
   "cell_type": "code",
   "execution_count": 25,
   "metadata": {},
   "outputs": [
    {
     "name": "stdout",
     "output_type": "stream",
     "text": [
      "   id          x  result\n",
      "0   0  apartment  1148.0\n",
      "1   0      condo  1200.0\n",
      "2   0      house  2195.0\n",
      "3   0     duplex  1495.0\n",
      "4   0       loft  1675.0\n"
     ]
    }
   ],
   "source": [
    "#последняя подготовка данных для попарных сравнений\n",
    "stacked_data = df.stack().reset_index()\n",
    "stacked_data = stacked_data.rename(columns={'level_0': 'id',\n",
    "                                            'level_1': 'x',\n",
    "                                            0:'result'})\n",
    "print(stacked_data.head())"
   ]
  },
  {
   "cell_type": "code",
   "execution_count": 26,
   "metadata": {},
   "outputs": [
    {
     "name": "stdout",
     "output_type": "stream",
     "text": [
      "          Multiple Comparison of Means - Tukey HSD, FWER=0.05           \n",
      "========================================================================\n",
      "    group1        group2     meandiff p-adj    lower      upper   reject\n",
      "------------------------------------------------------------------------\n",
      "    apartment         condo  243.3665  0.001   226.1959  260.5372   True\n",
      "    apartment cottage/cabin -126.9306  0.001  -170.8736  -82.9877   True\n",
      "    apartment        duplex   40.8855  0.001     22.649    59.122   True\n",
      "    apartment          flat  233.0574  0.001    174.404  291.7108   True\n",
      "    apartment         house   57.5173  0.001    49.8971   65.1376   True\n",
      "    apartment        in-law  122.9063 0.0028     25.173  220.6395   True\n",
      "    apartment          land -411.0394  0.151  -882.5332   60.4543  False\n",
      "    apartment          loft  147.4626  0.001    97.9078  197.0173   True\n",
      "    apartment  manufactured -174.0826  0.001   -193.555 -154.6103   True\n",
      "        condo cottage/cabin -370.2972  0.001  -417.3673  -323.227   True\n",
      "        condo        duplex  -202.481  0.001  -227.3243 -177.6377   True\n",
      "        condo          flat  -10.3091    0.9   -71.3406   50.7224  False\n",
      "        condo         house -185.8492  0.001  -204.3609 -167.3374   True\n",
      "        condo        in-law -120.4603 0.0048  -219.6389  -21.2816   True\n",
      "        condo          land -654.4059  0.001 -1126.2014 -182.6105   True\n",
      "        condo          loft   -95.904  0.001  -148.2517  -43.5562   True\n",
      "        condo  manufactured -417.4491  0.001  -443.2132  -391.685   True\n",
      "cottage/cabin        duplex  167.8161  0.001   120.3468  215.2855   True\n",
      "cottage/cabin          flat  359.9881  0.001   286.7692  433.2069   True\n",
      "cottage/cabin         house   184.448  0.001   139.9639  228.9321   True\n",
      "cottage/cabin        in-law  249.8369  0.001   142.7269  356.9469   True\n",
      "cottage/cabin          land -284.1088 0.6475   -757.635  189.4175  False\n",
      "cottage/cabin          loft  274.3932  0.001   208.2385  340.5479   True\n",
      "cottage/cabin  manufactured   -47.152 0.0587   -95.1097    0.8057  False\n",
      "       duplex          flat  192.1719  0.001    130.832  253.5118   True\n",
      "       duplex         house   16.6318 0.1746    -2.8726   36.1363  False\n",
      "       duplex        in-law   82.0208 0.2121    -17.348  181.3895  False\n",
      "       duplex          land -451.9249 0.0742  -923.7604   19.9106  False\n",
      "       duplex          loft  106.5771  0.001      53.87  159.2841   True\n",
      "       duplex  manufactured -214.9681  0.001  -241.4545 -188.4817   True\n",
      "         flat         house -175.5401  0.001     -234.6 -116.4801   True\n",
      "         flat        in-law -110.1512 0.0684  -224.0888    3.7865  False\n",
      "         flat          land -644.0968  0.001  -1119.214 -168.9796   True\n",
      "         flat          loft  -85.5949 0.0152  -162.3131   -8.8766   True\n",
      "         flat  manufactured   -407.14  0.001  -468.8586 -345.4214   True\n",
      "        house        in-law   65.3889 0.5164   -32.5888  163.3667  False\n",
      "        house          land -468.5568 0.0531  -940.1012    2.9877  False\n",
      "        house          loft   89.9452  0.001      39.91  139.9805   True\n",
      "        house  manufactured    -231.6  0.001  -252.2646 -210.9354   True\n",
      "       in-law          land -533.9457 0.0163 -1015.4516  -52.4398   True\n",
      "       in-law          loft   24.5563    0.9   -84.9756  134.0882  False\n",
      "       in-law  manufactured -296.9889  0.001  -396.5918 -197.3859   True\n",
      "         land          loft   558.502 0.0074     84.422 1032.5819   True\n",
      "         land  manufactured  236.9568 0.8378  -234.9281  708.8416  False\n",
      "         loft  manufactured -321.5452  0.001  -374.6924 -268.3979   True\n",
      "------------------------------------------------------------------------\n"
     ]
    }
   ],
   "source": [
    "#рассчитаем все попарные сравнения с доверительными интервалами TukeyHSD\n",
    "MultiComp = pairwise_tukeyhsd(stacked_data['result'], stacked_data['x'])\n",
    "print(MultiComp)"
   ]
  },
  {
   "cell_type": "markdown",
   "metadata": {},
   "source": [
    "Если поле reject == False значит мат. ожидания равны, так как доверительным интервалом накрывывается значение 0."
   ]
  },
  {
   "cell_type": "markdown",
   "metadata": {},
   "source": [
    "Таким образом, мат. ожидания цен совпадают у следующих типов жилья:"
   ]
  },
  {
   "cell_type": "code",
   "execution_count": 27,
   "metadata": {},
   "outputs": [
    {
     "name": "stdout",
     "output_type": "stream",
     "text": [
      "[('apartment', 'land'), ('condo', 'flat'), ('cottage/cabin', 'land'), ('cottage/cabin', 'manufactured'), ('duplex', 'house'), ('duplex', 'in-law'), ('duplex', 'land'), ('flat', 'in-law'), ('house', 'in-law'), ('house', 'land'), ('in-law', 'loft'), ('land', 'manufactured')]\n"
     ]
    }
   ],
   "source": [
    "print([('apartment', 'land'),\n",
    "        ('condo', 'flat'),\n",
    "        ('cottage/cabin', 'land'),\n",
    "        ('cottage/cabin', 'manufactured'),\n",
    "        ('duplex', 'house'),\n",
    "        ('duplex', 'in-law'),\n",
    "        ('duplex', 'land'),\n",
    "        ('flat', 'in-law'),\n",
    "        ('house', 'in-law'),\n",
    "        ('house', 'land'),\n",
    "        ('in-law', 'loft'),\n",
    "        ('land', 'manufactured')])"
   ]
  },
  {
   "cell_type": "markdown",
   "metadata": {},
   "source": [
    "# --------------------------------------------------------------------------------------------------------"
   ]
  },
  {
   "cell_type": "markdown",
   "metadata": {},
   "source": [
    "Проверим зависимость стоимости жилья от штата (северный / южный)"
   ]
  },
  {
   "cell_type": "markdown",
   "metadata": {},
   "source": [
    "Южными штатами будем считать штаты, которые были в составе Конфедерации."
   ]
  },
  {
   "cell_type": "markdown",
   "metadata": {},
   "source": [
    "**P.S.:** Конфедеративные Штаты были противником Соединённых Штатов во время Гражданской войны в США"
   ]
  },
  {
   "cell_type": "code",
   "execution_count": 28,
   "metadata": {},
   "outputs": [],
   "source": [
    "#создаем массивы северных и южных штатов\n",
    "south = ['sc', 'ms', 'fl', 'al', 'ga', 'la', 'tx', 'va', 'ar', 'nc', 'tn', 'mo', 'az', 'ky']\n",
    "north = []\n",
    "\n",
    "\n",
    "#отбираем северные штаты\n",
    "for _ in data_IQR['state'].unique():\n",
    "    if _ not in south:\n",
    "        north.append(_)"
   ]
  },
  {
   "cell_type": "code",
   "execution_count": 29,
   "metadata": {},
   "outputs": [],
   "source": [
    "#создаем dataframe для южных штатов\n",
    "data_IQR_South = data_IQR[data_IQR['state'].isin(south)]\n",
    "\n",
    "#создаем dataframe для северных штатов\n",
    "data_IQR_North = data_IQR[data_IQR['state'].isin(north)]"
   ]
  },
  {
   "cell_type": "code",
   "execution_count": 30,
   "metadata": {},
   "outputs": [
    {
     "data": {
      "image/png": "[encoded data removed]",
      "text/plain": [
       "<Figure size 1080x360 with 1 Axes>"
      ]
     },
     "metadata": {
      "needs_background": "light"
     },
     "output_type": "display_data"
    }
   ],
   "source": [
    "#создаем пространство для графика\n",
    "fig = plt.figure(figsize=(15,5))\n",
    "\n",
    "#группируем по южным штатам, считая среднюю стоимость жилья для каждого южного штата \n",
    "table = data_IQR_South.groupby(['state'], as_index=False)['price'].mean().sort_values(by='price', ascending=False)\n",
    "\n",
    "#построение графиков\n",
    "ax = sns.boxplot(data=data_IQR, x=\"state\", y=\"price\", order=table['state'].to_list(), palette=\"Set1\")\n",
    "ax.set_xticklabels(ax.get_xticklabels(), rotation=45)\n",
    "fig.suptitle(\"Mean Price(south_state) \",fontsize=25);"
   ]
  },
  {
   "cell_type": "code",
   "execution_count": 31,
   "metadata": {},
   "outputs": [
    {
     "data": {
      "image/png": "[encoded data removed]",
      "text/plain": [
       "<Figure size 1080x360 with 1 Axes>"
      ]
     },
     "metadata": {
      "needs_background": "light"
     },
     "output_type": "display_data"
    }
   ],
   "source": [
    "#создаем пространство для графика\n",
    "fig = plt.figure(figsize=(15,5))\n",
    "\n",
    "#группируем по северным штатам, считая среднюю стоимость жилья для каждого северного штата \n",
    "table = data_IQR_North.groupby(['state'], as_index=False)['price'].mean().sort_values(by='price', ascending=False)\n",
    "\n",
    "#построение графиков\n",
    "ax = sns.boxplot(data=data_IQR, x=\"state\", y=\"price\", order=table['state'].to_list(), palette=\"Set1\")\n",
    "ax.set_xticklabels(ax.get_xticklabels(), rotation=45)\n",
    "fig.suptitle(\"Mean Price(north_state) \",fontsize=25);"
   ]
  },
  {
   "cell_type": "markdown",
   "metadata": {},
   "source": [
    "Выдвинем гипотезу, что средняя цена жилья Северных штатов равна средней цене жилья Южных штатов."
   ]
  },
  {
   "cell_type": "markdown",
   "metadata": {},
   "source": [
    "$$H_0: m_S = m_N$$"
   ]
  },
  {
   "cell_type": "markdown",
   "metadata": {},
   "source": [
    "$$H_1: m_S <> m_N$$"
   ]
  },
  {
   "cell_type": "markdown",
   "metadata": {},
   "source": [
    "Исследуем распределения на нормальность. Воспользуемся **критерием Шапиро-Уилка**. Почему он? Потому что он один из самых мощных критериев и позволяет работать с выборкой данного размера. Выберем уровень значимости **alpha = 0.05**."
   ]
  },
  {
   "cell_type": "code",
   "execution_count": 32,
   "metadata": {},
   "outputs": [
    {
     "name": "stderr",
     "output_type": "stream",
     "text": [
      "D:\\Anaconda\\lib\\site-packages\\scipy\\stats\\morestats.py:1681: UserWarning: p-value may not be accurate for N > 5000.\n",
      "  warnings.warn(\"p-value may not be accurate for N > 5000.\")\n"
     ]
    },
    {
     "data": {
      "text/plain": [
       "ShapiroResult(statistic=0.9624394178390503, pvalue=0.0)"
      ]
     },
     "execution_count": 32,
     "metadata": {},
     "output_type": "execute_result"
    }
   ],
   "source": [
    "#критерий Шапиро-Уилка для южной выборки\n",
    "stats.shapiro(data_IQR_South['price'])"
   ]
  },
  {
   "cell_type": "code",
   "execution_count": 33,
   "metadata": {},
   "outputs": [
    {
     "name": "stdout",
     "output_type": "stream",
     "text": [
      "\n",
      " mu = 1006.45 and sigma = 334.74\n",
      "\n"
     ]
    },
    {
     "data": {
      "image/png": "[encoded data removed]",
      "text/plain": [
       "<Figure size 432x288 with 1 Axes>"
      ]
     },
     "metadata": {
      "needs_background": "light"
     },
     "output_type": "display_data"
    },
    {
     "data": {
      "image/png": "[encoded data removed]",
      "text/plain": [
       "<Figure size 432x288 with 1 Axes>"
      ]
     },
     "metadata": {
      "needs_background": "light"
     },
     "output_type": "display_data"
    }
   ],
   "source": [
    "sns.distplot(data_IQR_South['price'] , fit=stats.norm);\n",
    "\n",
    "(mu, sigma) = stats.norm.fit(data_IQR_South['price'])\n",
    "print( '\\n mu = {:.2f} and sigma = {:.2f}\\n'.format(mu, sigma))\n",
    "\n",
    "plt.legend(['Норм. распр. ($\\mu=$ {:.2f} and $\\sigma=$ {:.2f} )'.format(mu, sigma)], loc='best')\n",
    "plt.ylabel('Частота')\n",
    "plt.title('price распр.')\n",
    "\n",
    "#QQ-plot\n",
    "fig = plt.figure()\n",
    "res = stats.probplot(data_IQR_South['price'], plot=plt)\n",
    "plt.show()"
   ]
  },
  {
   "cell_type": "code",
   "execution_count": 34,
   "metadata": {},
   "outputs": [
    {
     "name": "stderr",
     "output_type": "stream",
     "text": [
      "D:\\Anaconda\\lib\\site-packages\\scipy\\stats\\morestats.py:1681: UserWarning: p-value may not be accurate for N > 5000.\n",
      "  warnings.warn(\"p-value may not be accurate for N > 5000.\")\n"
     ]
    },
    {
     "data": {
      "text/plain": [
       "ShapiroResult(statistic=0.9762063026428223, pvalue=0.0)"
      ]
     },
     "execution_count": 34,
     "metadata": {},
     "output_type": "execute_result"
    }
   ],
   "source": [
    "#критерий Шапиро-Уилка для северной выборки\n",
    "stats.shapiro(data_IQR_North['price'])"
   ]
  },
  {
   "cell_type": "code",
   "execution_count": 35,
   "metadata": {},
   "outputs": [
    {
     "name": "stdout",
     "output_type": "stream",
     "text": [
      "\n",
      " mu = 1163.32 and sigma = 427.39\n",
      "\n"
     ]
    },
    {
     "data": {
      "image/png": "[encoded data removed]",
      "text/plain": [
       "<Figure size 432x288 with 1 Axes>"
      ]
     },
     "metadata": {
      "needs_background": "light"
     },
     "output_type": "display_data"
    },
    {
     "data": {
      "image/png": "[encoded data removed]",
      "text/plain": [
       "<Figure size 432x288 with 1 Axes>"
      ]
     },
     "metadata": {
      "needs_background": "light"
     },
     "output_type": "display_data"
    }
   ],
   "source": [
    "sns.distplot(data_IQR_North['price'] , fit=stats.norm);\n",
    "\n",
    "(mu, sigma) = stats.norm.fit(data_IQR_North['price'])\n",
    "print( '\\n mu = {:.2f} and sigma = {:.2f}\\n'.format(mu, sigma))\n",
    "\n",
    "plt.legend(['Норм. распр. ($\\mu=$ {:.2f} and $\\sigma=$ {:.2f} )'.format(mu, sigma)], loc='best')\n",
    "plt.ylabel('Частота')\n",
    "plt.title('price распр.')\n",
    "\n",
    "#QQ-plot\n",
    "fig = plt.figure()\n",
    "res = stats.probplot(data_IQR_North['price'], plot=plt)\n",
    "plt.show()"
   ]
  },
  {
   "cell_type": "markdown",
   "metadata": {},
   "source": [
    "Обе гипотезы о нормальном распределении **отвергаются**, потому что в обоих случаях p_value < 0.05"
   ]
  },
  {
   "cell_type": "markdown",
   "metadata": {},
   "source": [
    "Так как распределения выборок **отличны от нормального**, то воспользуемся **критерием Манна-Уитни**"
   ]
  },
  {
   "cell_type": "code",
   "execution_count": 36,
   "metadata": {},
   "outputs": [
    {
     "data": {
      "text/plain": [
       "MannwhitneyuResult(statistic=13006955483.0, pvalue=0.0)"
      ]
     },
     "execution_count": 36,
     "metadata": {},
     "output_type": "execute_result"
    }
   ],
   "source": [
    "#критерий Манна-Уитни\n",
    "stats.mannwhitneyu(data_IQR_South['price'], data_IQR_North['price'])"
   ]
  },
  {
   "cell_type": "markdown",
   "metadata": {},
   "source": [
    "Гипотеза **отвергается**. Значит средние цены на жилье на Юге и Севере различаются."
   ]
  },
  {
   "cell_type": "markdown",
   "metadata": {},
   "source": [
    "# Выводы:"
   ]
  },
  {
   "cell_type": "markdown",
   "metadata": {},
   "source": [
    "Исследовался набор данных о стоимости жилья в США. В процессе исследования была поставлена гипотеза о равенстве мат.ожиданий цен для разных типов жилья. Использовался однофакторный дисперсионный анализ, где фактором являлся тип жилья, результурющим признаком была цена. Гипотеза была отклонена, и с помощью критерия Тьюки, были найдены типы жилья, для которых выполнялось равенство мат.ожиданий. Затем была исследована зависимость цен на жилье от географического положения штата. Было выбрано разделение на южные и северные штаты. В южные штаты вошли те, которые воевали во время Гражданской войны 1861-1865 годов на стороне Конфедеративных Штатов Америки. В северные штаты вошли те, которые воевали на стороне Соединённых Штатов Америки. В процессе исследования была поставлена гипотеза о равенстве средних цен на жилье для Южных и Северных штатов. Использовался критерий Манна-Уитни, так как распределение выборок отлично от нормального. В итоге, средние цены на жилье в Южных и Северных штатах различные."
   ]
  },
  {
   "cell_type": "code",
   "execution_count": null,
   "metadata": {},
   "outputs": [],
   "source": []
  }
 ],
 "metadata": {
  "kernelspec": {
   "display_name": "Python 3",
   "language": "python",
   "name": "python3"
  },
  "language_info": {
   "codemirror_mode": {
    "name": "ipython",
    "version": 3
   },
   "file_extension": ".py",
   "mimetype": "text/x-python",
   "name": "python",
   "nbconvert_exporter": "python",
   "pygments_lexer": "ipython3",
   "version": "3.8.3"
  }
 },
 "nbformat": 4,
 "nbformat_minor": 4
}
